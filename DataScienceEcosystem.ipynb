{
 "cells": [
  {
   "cell_type": "markdown",
   "id": "03d270a7-5a44-4d02-9ba7-f92be1788627",
   "metadata": {},
   "source": [
    "# Data Science Tools and Ecosystem"
   ]
  },
  {
   "cell_type": "markdown",
   "id": "0840da22-fb61-4720-be5d-ef46a0893f24",
   "metadata": {},
   "source": [
    "_In this notebook, Data Science Tools and Ecosystem are summarized_"
   ]
  },
  {
   "cell_type": "markdown",
   "id": "c4bbea5a-a78a-43d5-892b-4bdb7b4b9f0f",
   "metadata": {
    "tags": []
   },
   "source": [
    "### _Some of the popular languages that Data Scientists use are:_\n",
    "1. Python\n",
    "2. JavaScript\n",
    "3. R\n",
    "4. SQL"
   ]
  },
  {
   "cell_type": "markdown",
   "id": "5e5c573d-d23e-4e33-9300-a0a44347b428",
   "metadata": {},
   "source": [
    "### Some of the commonly used libraries used by Data Scientists include:\n",
    "1. TensorFlow\n",
    "2. sci-kit learn\n",
    "3. Pandas&NumPy\n",
    "4. OpenCV\n",
    "5. PyTorch"
   ]
  },
  {
   "cell_type": "markdown",
   "id": "6d56d778-a61b-4351-b5a5-c2b4cf4005c3",
   "metadata": {},
   "source": [
    "| Data Science Tools |\n",
    "| ------ | \n",
    "| R Studio IDE |\n",
    "| Jupyter Notebooks |\n",
    "| GitHub |"
   ]
  },
  {
   "cell_type": "markdown",
   "id": "136a42e0-b378-441a-bbd6-3150b6d4a051",
   "metadata": {},
   "source": [
    "### Below are a few examples of evaluating arithmetic expressions in Python"
   ]
  },
  {
   "cell_type": "code",
   "execution_count": 1,
   "id": "b9c0cbbc-b6a7-4949-bf0c-b90c2c86be39",
   "metadata": {},
   "outputs": [
    {
     "data": {
      "text/plain": [
       "17"
      ]
     },
     "execution_count": 1,
     "metadata": {},
     "output_type": "execute_result"
    }
   ],
   "source": [
    "# This a simple arithmetic expression to mutiply then add integers\n",
    "(3*4)+5"
   ]
  },
  {
   "cell_type": "code",
   "execution_count": 2,
   "id": "ad003ba0-3f8e-406c-8b9f-ff39ceaed04d",
   "metadata": {},
   "outputs": [
    {
     "name": "stdout",
     "output_type": "stream",
     "text": [
      "3.3333333333333335\n"
     ]
    }
   ],
   "source": [
    "# This will convert 200 minutes to hours by diving by 60\n",
    "minutes = 200\n",
    "minutes_per_hour = 60\n",
    "hours = minutes/minutes_per_hour\n",
    "print(hours)"
   ]
  },
  {
   "cell_type": "markdown",
   "id": "07b5a1f2-c14f-40b5-bddf-bf5227ea0cc6",
   "metadata": {},
   "source": [
    "__Objectives:__\n",
    "- List popular languages for Data Science\n",
    "- List commonly used Data Science Libraries\n",
    "- List some Data Science Tools\n",
    "- Display knowledge of markdown and code cells in Jupyter Notebooks"
   ]
  },
  {
   "cell_type": "markdown",
   "id": "15dfcc29-97e2-4d1e-898e-e253968b443e",
   "metadata": {},
   "source": [
    "## Author\n",
    "Duncan Andrew"
   ]
  },
  {
   "cell_type": "code",
   "execution_count": null,
   "id": "8230177a-78f4-43dd-80fb-c84c196446a9",
   "metadata": {},
   "outputs": [],
   "source": []
  }
 ],
 "metadata": {
  "kernelspec": {
   "display_name": "Python",
   "language": "python",
   "name": "conda-env-python-py"
  },
  "language_info": {
   "codemirror_mode": {
    "name": "ipython",
    "version": 3
   },
   "file_extension": ".py",
   "mimetype": "text/x-python",
   "name": "python",
   "nbconvert_exporter": "python",
   "pygments_lexer": "ipython3",
   "version": "3.7.12"
  }
 },
 "nbformat": 4,
 "nbformat_minor": 5
}
